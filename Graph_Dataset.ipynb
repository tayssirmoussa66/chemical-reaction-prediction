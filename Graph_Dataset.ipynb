{
  "nbformat": 4,
  "nbformat_minor": 0,
  "metadata": {
    "colab": {
      "name": "Graph_Dataset.ipynb",
      "provenance": [],
      "toc_visible": true,
      "authorship_tag": "ABX9TyPHgtg5u8YeHqnSGwI9bpoT",
      "include_colab_link": true
    },
    "kernelspec": {
      "name": "python3",
      "display_name": "Python 3"
    },
    "language_info": {
      "name": "python"
    }
  },
  "cells": [
    {
      "cell_type": "markdown",
      "metadata": {
        "id": "view-in-github",
        "colab_type": "text"
      },
      "source": [
        "<a href=\"https://colab.research.google.com/github/tayssirmoussa66/chemical-reaction-prediction/blob/main/Graph_Dataset.ipynb\" target=\"_parent\"><img src=\"https://colab.research.google.com/assets/colab-badge.svg\" alt=\"Open In Colab\"/></a>"
      ]
    },
    {
      "cell_type": "code",
      "execution_count": null,
      "metadata": {
        "id": "ifwTuWBCpMXe"
      },
      "outputs": [],
      "source": [
        "from rdkit import Chem\n",
        "import torch\n",
        "import torch_geometric\n",
        "from torch_geometric.data import Dataset, Data, Batch, download_url\n",
        "import numpy as np\n",
        "import os.path as osp\n",
        "from torch_geometric.loader import DataLoader\n",
        "from tqdm import tqdm"
      ]
    },
    {
      "cell_type": "code",
      "source": [
        "def get_bin_feature(r):\n",
        "    '''\n",
        "    This function is used to generate Adjacency Matrix\n",
        "    '''\n",
        "    rmol = Chem.MolFromSmiles(r)\n",
        "    n_atoms = rmol.GetNumAtoms()\n",
        "    \n",
        "    \n",
        "   \n",
        "    index=[]\n",
        "    for atom1 in rmol.GetAtoms():\n",
        "       for atom2 in rmol.GetAtoms():\n",
        "            i= atom1.GetIntProp('molAtomMapNumber') -1\n",
        "            j=atom2.GetIntProp('molAtomMapNumber') -1\n",
        "            \n",
        "            idx=[]\n",
        "            idx.append(i)\n",
        "            idx.append(j)\n",
        "           \n",
        "            index.append(idx)\n",
        "\n",
        "    index = np.asarray(index)\n",
        "    index = torch.tensor(index)\n",
        "    index = index.t().to(torch.long).view(2, -1)\n",
        "\n",
        "    return index\n"
      ],
      "metadata": {
        "id": "8Yq07jvEtAu5"
      },
      "execution_count": null,
      "outputs": []
    },
    {
      "cell_type": "code",
      "source": [
        "bo_to_index  = {0.0: 0, 1:1, 2:2, 3:3, 1.5:4}\n",
        "nbos = len(bo_to_index)\n",
        "INVALID_BOND = -1\n",
        "\n",
        "def get_bond_label(r, edits):\n",
        "    '''\n",
        "    This function is used to generate label vector\n",
        "    '''\n",
        "    rmol = Chem.MolFromSmiles(r)\n",
        "    n_atoms = rmol.GetNumAtoms()\n",
        "    rmap = np.zeros((n_atoms, n_atoms, nbos))\n",
        "    \n",
        "    for s in edits.split(';'):\n",
        "        a1,a2,bo = s.split('-')\n",
        "        x = min(int(a1)-1,int(a2)-1)\n",
        "        y = max(int(a1)-1, int(a2)-1)\n",
        "        z = bo_to_index[float(bo)]\n",
        "        rmap[x,y,z] = rmap[y,x,z] = 1\n",
        "\n",
        "   \n",
        "    sp_labels = []\n",
        "    for i in range(n_atoms):\n",
        "        for j in range(n_atoms):\n",
        "            for k in range(len(bo_to_index)):\n",
        "                  if rmap[i,j,k] == 1:\n",
        "                      sp_labels.append(i * n_atoms * nbos + j * nbos + k)\n",
        "                        # TODO: check if this is consistent with how TF does flattening\n",
        "    labels = np.reshape(rmap,(n_atoms*n_atoms,nbos))\n",
        "    return labels, sp_labels"
      ],
      "metadata": {
        "id": "7H6IIEXMOerI"
      },
      "execution_count": null,
      "outputs": []
    },
    {
      "cell_type": "code",
      "source": [
        "class MoleculeDataset(Dataset):\n",
        "    def __init__(self, root, filename, transform=None, pre_transform=None):\n",
        "        \"\"\"\n",
        "        root = Where the dataset should be stored. This folder is split\n",
        "        into raw_dir (downloaded dataset) and processed_dir (processed data).\n",
        "        \"\"\"\n",
        "        self.filename = filename\n",
        "        super(MoleculeDataset, self).__init__(root, transform, pre_transform)\n",
        "\n",
        "    @property\n",
        "    def raw_file_names(self):\n",
        "\n",
        "       return self.filename\n",
        "\n",
        "    @property\n",
        "    def processed_file_names(self):\n",
        "\n",
        "       return 'not_implemented.pt'\n",
        "\n",
        "\n",
        "    def download(self):\n",
        "        pass\n",
        "\n",
        "    def process(self):\n",
        "        \n",
        "        self.data = open(self.raw_paths[0], \"r\")\n",
        "        idx = 0\n",
        "       \n",
        "        for line in self.data:\n",
        "\n",
        "            r, e = line.strip(\"\\r\\n \").split()\n",
        "            react = r.split('>')[0]\n",
        "            labels, sp_labels = get_bond_label(react,e)\n",
        "            edge_index = get_bin_feature(react)\n",
        "\n",
        "            mol_obj = Chem.MolFromSmiles(react)\n",
        "            # Get node features\n",
        "            node_feats = self._get_node_features(mol_obj)\n",
        "            # Get edg features\n",
        "            edge_weight = self._get_edge_weights(mol_obj)\n",
        "            \n",
        "            # Get labels info\n",
        "            label = self._get_labels(labels)\n",
        "            # Get Sp_labels info\n",
        "            sp_label = self._get_sp_labels(sp_labels)\n",
        "            # Create data object\n",
        "            data = Data(x=node_feats,\n",
        "                        edge_index=edge_index,\n",
        "                        edge_weight=edge_weight,\n",
        "                        y=label,\n",
        "                        z=sp_label,\n",
        "                        smiles=react\n",
        "                        )\n",
        "\n",
        "            torch.save(data, osp.join(self.processed_dir, f'data_{idx}.pt'))\n",
        "            print(f\"data n°{idx} saved\")\n",
        "            idx += 1\n",
        "\n",
        "    def _get_node_features(self, mol):\n",
        "        \"\"\"\n",
        "        This will return a matrix / 2d array of the shape\n",
        "        [Number of Nodes, Node Feature size]\n",
        "        \"\"\"\n",
        "        n_atoms = mol.GetNumAtoms()\n",
        "        all_node_feats = np.zeros((n_atoms, 7))\n",
        "\n",
        "        for atom in mol.GetAtoms():\n",
        "            node_feats = []\n",
        "            # Feature 1: Atomic number\n",
        "            node_feats.append(atom.GetAtomicNum())\n",
        "            # Feature 2: Atom degree\n",
        "            node_feats.append(atom.GetDegree())\n",
        "            # Feature 3: Explicit Valence\n",
        "            node_feats.append(atom.GetExplicitValence())\n",
        "            # Feature 4: Implicit Valence\n",
        "            node_feats.append(atom.GetImplicitValence())\n",
        "            # Feature 5: Formal charge\n",
        "            node_feats.append(atom.GetFormalCharge())\n",
        "            # Feature 6: Aromaticity\n",
        "            node_feats.append(atom.GetIsAromatic())\n",
        "            # Feature 7: In Ring\n",
        "            node_feats.append(atom.IsInRing())\n",
        "\n",
        "            # Append node features to matrix\n",
        "            all_node_feats[ atom.GetIntProp('molAtomMapNumber') -1] = node_feats\n",
        "\n",
        "        all_node_feats = np.asarray(all_node_feats)\n",
        "        return torch.tensor(all_node_feats, dtype=torch.float)\n",
        "\n",
        "    def _get_edge_weights(self, mol):\n",
        "        \"\"\"\n",
        "        This will return a matrix / 2d array of the shape\n",
        "        [Number of edges, Edge Feature size]\n",
        "        \"\"\"\n",
        "        n_atoms = mol.GetNumAtoms()\n",
        "        edge_weight = np.zeros((n_atoms, n_atoms))\n",
        "\n",
        "        for bond in mol.GetBonds():\n",
        "            i = bond.GetBeginAtomIdx()\n",
        "            j = bond.GetEndAtomIdx()\n",
        "            edge_weight[i,j]=bond.GetBondTypeAsDouble()        \n",
        "\n",
        "        edge_weight = np.asarray(edge_weight)\n",
        "        edge_weight = torch.tensor(edge_weight)\n",
        "        \n",
        "        return edge_weight\n",
        "\n",
        "\n",
        "    def _get_labels(self, e):\n",
        "     \n",
        "      label = np.asarray(e)\n",
        "      return torch.tensor(label)\n",
        "\n",
        "    def _get_sp_labels(self, e):\n",
        "     \n",
        "      sp_label = np.asarray(e)\n",
        "      return torch.tensor(sp_label) \n",
        "\n",
        "    def len(self):\n",
        "        return len(self.processed_file_names)\n",
        "\n",
        "    def get(self, idx):\n",
        "        \"\"\" - Equivalent to __getitem__ in pytorch\n",
        "            - Is not needed for PyG's InMemoryDataset\n",
        "        \"\"\"\n",
        "\n",
        "        data = torch.load(osp.join(self.processed_dir,\n",
        "                                           f'data_{idx}.pt'))\n",
        "\n",
        "\n",
        "        return data\n",
        "\n"
      ],
      "metadata": {
        "id": "yP23r9llSjtf"
      },
      "execution_count": null,
      "outputs": []
    },
    {
      "cell_type": "code",
      "source": [
        "Train_Dataset= MoleculeDataset(root=\"/content/sample_data/Data_train\",filename=\"Train.txt\")"
      ],
      "metadata": {
        "id": "CiScX4NTqIpb"
      },
      "execution_count": null,
      "outputs": []
    },
    {
      "cell_type": "code",
      "source": [
        "Test_Dataset = MoleculeDataset(root=\"/content/sample_data/Data_test\",filename=\"Test.txt\")"
      ],
      "metadata": {
        "id": "RXrJhHbfGGOI"
      },
      "execution_count": null,
      "outputs": []
    },
    {
      "cell_type": "code",
      "source": [
        "Train_loader = DataLoader(Train_Dataset, batch_size=5000, shuffle=True)"
      ],
      "metadata": {
        "id": "2tmHGi9sB1aI"
      },
      "execution_count": null,
      "outputs": []
    },
    {
      "cell_type": "code",
      "source": [
        "Test_loader = DataLoader(Test_Dataset, batch_size=5000, shuffle=True)"
      ],
      "metadata": {
        "id": "hYAGs626N4oD"
      },
      "execution_count": null,
      "outputs": []
    }
  ]
}